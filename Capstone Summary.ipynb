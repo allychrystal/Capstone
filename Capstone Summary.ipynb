{
 "cells": [
  {
   "cell_type": "markdown",
   "metadata": {},
   "source": [
    "# Capstone:  Broadway"
   ]
  },
  {
   "cell_type": "markdown",
   "metadata": {},
   "source": [
    "### Objective:"
   ]
  },
  {
   "cell_type": "markdown",
   "metadata": {},
   "source": [
    "\n",
    "Predict gross revenue & ticket price of currently playing and future Broadway shows"
   ]
  },
  {
   "cell_type": "markdown",
   "metadata": {},
   "source": [
    "### Progress:"
   ]
  },
  {
   "cell_type": "markdown",
   "metadata": {},
   "source": [
    "The end database will entirely be my own work.  There is no existing cohesive database available.  The Broadway League runs the site Internet Broadway Database with show info, gross revenue & attendance records dating back to 1984.  The scraping process is a timely endeavor that I have made progress with. "
   ]
  },
  {
   "cell_type": "markdown",
   "metadata": {},
   "source": [
    "### Hypothesis"
   ]
  },
  {
   "cell_type": "markdown",
   "metadata": {},
   "source": [
    "I can build a predictive model based on these important features: \n",
    "\n",
    "- Play or Musical:  Musical demanding higher price\n",
    "- Original or Revival:  Revival demanding higher price\n",
    "- Cast Size:  Large number of performers demands higher price\n",
    "- Theatre capacity:  While capacity obviously increases your potential revenue, there will be a supply/ demand factor in this that may make this feature less important. For ex:  Hamilton can only sell 11,000 tix a week and thereform demands higher ticket prices and Lion King has a huge theatre that demands lower ticket prices both fill 95% of seats\n",
    "- Music by/ Lyrics by/ Book by/ Written by:  StarPower will demand higher price\n",
    "- Tony Awards Won:  Will increase price\n",
    "- Theatre choice:  Affects capacity/ prime location demands higher price"
   ]
  },
  {
   "cell_type": "markdown",
   "metadata": {},
   "source": [
    "### Risks"
   ]
  },
  {
   "cell_type": "markdown",
   "metadata": {},
   "source": [
    "- Only about 10% of shows make it on Broadway past 1 year \n",
    "- It may be difficult to predict the successful outliers \n",
    "\n",
    "- Comparing data across different eras as ticket prices continue to increase\n",
    "- The ticket price of a show in the 1980s will be different from a new show in 2017/ 2018\n",
    "\n",
    "- The data is not easily accessible \n",
    "\n",
    "- Broadway is one of the riskiest entertainment investments due to unknown reasons for why shows are successful & not successful.  On one hand, this makes the project fun and exciting.  On the other hand, the end result could be dissapointing."
   ]
  },
  {
   "cell_type": "markdown",
   "metadata": {},
   "source": [
    "## Internet Broadway Database"
   ]
  },
  {
   "cell_type": "markdown",
   "metadata": {},
   "source": [
    "Features Available:\n",
    "- Play or Musical\n",
    "- Original Work or Revival\n",
    "- Genre & Sub-Genre\n",
    "- Theatre\n",
    "- Performance Counts (Run time)\n",
    "- Cast Size\n",
    "- Theatre Capacity (seats available per show)\n",
    "- Opening Date\n",
    "- Closing Date\n",
    "\n",
    "1,146 Broadway shows since year 1984 (not including 1-night special shows or charity shows)"
   ]
  },
  {
   "cell_type": "code",
   "execution_count": 24,
   "metadata": {
    "collapsed": true
   },
   "outputs": [],
   "source": [
    "import numpy as np\n",
    "import pandas as pd\n",
    "import matplotlib.pyplot as plt\n",
    "import seaborn as sns\n",
    "%matplotlib inline"
   ]
  },
  {
   "cell_type": "code",
   "execution_count": 51,
   "metadata": {
    "collapsed": true
   },
   "outputs": [],
   "source": [
    "df = pd.read_csv('Broadway - Copy of Main-4.csv')"
   ]
  },
  {
   "cell_type": "code",
   "execution_count": 52,
   "metadata": {
    "collapsed": true,
    "scrolled": true
   },
   "outputs": [],
   "source": [
    "df.drop(['Order', 'ID'], axis = 1, inplace= True)"
   ]
  },
  {
   "cell_type": "code",
   "execution_count": 53,
   "metadata": {},
   "outputs": [
    {
     "data": {
      "text/html": [
       "<div>\n",
       "<style>\n",
       "    .dataframe thead tr:only-child th {\n",
       "        text-align: right;\n",
       "    }\n",
       "\n",
       "    .dataframe thead th {\n",
       "        text-align: left;\n",
       "    }\n",
       "\n",
       "    .dataframe tbody tr th {\n",
       "        vertical-align: top;\n",
       "    }\n",
       "</style>\n",
       "<table border=\"1\" class=\"dataframe\">\n",
       "  <thead>\n",
       "    <tr style=\"text-align: right;\">\n",
       "      <th></th>\n",
       "      <th>Theatre</th>\n",
       "      <th>Name</th>\n",
       "      <th>Original_Revival</th>\n",
       "      <th>Play_Musical</th>\n",
       "      <th>Genre</th>\n",
       "      <th>Sub_Genre</th>\n",
       "      <th>Opening</th>\n",
       "      <th>Closing</th>\n",
       "      <th>Performance Count</th>\n",
       "      <th>Cast Size</th>\n",
       "      <th>Capacity</th>\n",
       "    </tr>\n",
       "  </thead>\n",
       "  <tbody>\n",
       "    <tr>\n",
       "      <th>0</th>\n",
       "      <td>Bernard B. Jacobs</td>\n",
       "      <td>MASTER HAROLD…and the boys</td>\n",
       "      <td>Revival</td>\n",
       "      <td>Play</td>\n",
       "      <td>Drama</td>\n",
       "      <td>NaN</td>\n",
       "      <td>Jun 01, 2003</td>\n",
       "      <td>Jul 13, 2003</td>\n",
       "      <td>49</td>\n",
       "      <td>5</td>\n",
       "      <td>1078</td>\n",
       "    </tr>\n",
       "    <tr>\n",
       "      <th>1</th>\n",
       "      <td>John Golden</td>\n",
       "      <td>night, Mother</td>\n",
       "      <td>Original</td>\n",
       "      <td>Play</td>\n",
       "      <td>NaN</td>\n",
       "      <td>NaN</td>\n",
       "      <td>Mar 31, 1983</td>\n",
       "      <td>Feb 26, 1984</td>\n",
       "      <td>380</td>\n",
       "      <td>4</td>\n",
       "      <td>805</td>\n",
       "    </tr>\n",
       "    <tr>\n",
       "      <th>2</th>\n",
       "      <td>Bernard B. Jacobs</td>\n",
       "      <td>night, Mother</td>\n",
       "      <td>Revival</td>\n",
       "      <td>Play</td>\n",
       "      <td>Drama</td>\n",
       "      <td>NaN</td>\n",
       "      <td>Nov 14, 2004</td>\n",
       "      <td>Jan 09, 2005</td>\n",
       "      <td>65</td>\n",
       "      <td>4</td>\n",
       "      <td>1078</td>\n",
       "    </tr>\n",
       "    <tr>\n",
       "      <th>3</th>\n",
       "      <td>Lyceum</td>\n",
       "      <td>[title of show]</td>\n",
       "      <td>Original</td>\n",
       "      <td>Musical</td>\n",
       "      <td>Comedy</td>\n",
       "      <td>NaN</td>\n",
       "      <td>Jul 17, 2008</td>\n",
       "      <td>Oct 12, 2008</td>\n",
       "      <td>102</td>\n",
       "      <td>6</td>\n",
       "      <td>922</td>\n",
       "    </tr>\n",
       "    <tr>\n",
       "      <th>4</th>\n",
       "      <td>Studio 54</td>\n",
       "      <td>110 in the Shade</td>\n",
       "      <td>Revival</td>\n",
       "      <td>Musical</td>\n",
       "      <td>NaN</td>\n",
       "      <td>NaN</td>\n",
       "      <td>May 09, 2007</td>\n",
       "      <td>Jul 29, 2007</td>\n",
       "      <td>94</td>\n",
       "      <td>17</td>\n",
       "      <td>1006</td>\n",
       "    </tr>\n",
       "  </tbody>\n",
       "</table>\n",
       "</div>"
      ],
      "text/plain": [
       "              Theatre                        Name Original_Revival  \\\n",
       "0  Bernard B. Jacobs   MASTER HAROLD…and the boys          Revival   \n",
       "1        John Golden                night, Mother         Original   \n",
       "2  Bernard B. Jacobs                night, Mother          Revival   \n",
       "3             Lyceum              [title of show]         Original   \n",
       "4           Studio 54            110 in the Shade          Revival   \n",
       "\n",
       "  Play_Musical   Genre Sub_Genre       Opening       Closing  \\\n",
       "0         Play   Drama       NaN  Jun 01, 2003  Jul 13, 2003   \n",
       "1         Play     NaN       NaN  Mar 31, 1983  Feb 26, 1984   \n",
       "2         Play   Drama       NaN  Nov 14, 2004  Jan 09, 2005   \n",
       "3      Musical  Comedy       NaN  Jul 17, 2008  Oct 12, 2008   \n",
       "4      Musical     NaN       NaN  May 09, 2007  Jul 29, 2007   \n",
       "\n",
       "   Performance Count  Cast Size  Capacity  \n",
       "0                 49          5      1078  \n",
       "1                380          4       805  \n",
       "2                 65          4      1078  \n",
       "3                102          6       922  \n",
       "4                 94         17      1006  "
      ]
     },
     "execution_count": 53,
     "metadata": {},
     "output_type": "execute_result"
    }
   ],
   "source": [
    "df.head()"
   ]
  },
  {
   "cell_type": "code",
   "execution_count": 54,
   "metadata": {
    "scrolled": true
   },
   "outputs": [
    {
     "data": {
      "text/plain": [
       "(1146, 11)"
      ]
     },
     "execution_count": 54,
     "metadata": {},
     "output_type": "execute_result"
    }
   ],
   "source": [
    "df.shape"
   ]
  },
  {
   "cell_type": "markdown",
   "metadata": {},
   "source": [
    "### Hamilton: "
   ]
  },
  {
   "cell_type": "code",
   "execution_count": 55,
   "metadata": {
    "scrolled": true
   },
   "outputs": [
    {
     "data": {
      "text/html": [
       "<div>\n",
       "<style>\n",
       "    .dataframe thead tr:only-child th {\n",
       "        text-align: right;\n",
       "    }\n",
       "\n",
       "    .dataframe thead th {\n",
       "        text-align: left;\n",
       "    }\n",
       "\n",
       "    .dataframe tbody tr th {\n",
       "        vertical-align: top;\n",
       "    }\n",
       "</style>\n",
       "<table border=\"1\" class=\"dataframe\">\n",
       "  <thead>\n",
       "    <tr style=\"text-align: right;\">\n",
       "      <th></th>\n",
       "      <th>Theatre</th>\n",
       "      <th>Name</th>\n",
       "      <th>Original_Revival</th>\n",
       "      <th>Play_Musical</th>\n",
       "      <th>Genre</th>\n",
       "      <th>Sub_Genre</th>\n",
       "      <th>Opening</th>\n",
       "      <th>Closing</th>\n",
       "      <th>Performance Count</th>\n",
       "      <th>Cast Size</th>\n",
       "      <th>Capacity</th>\n",
       "    </tr>\n",
       "  </thead>\n",
       "  <tbody>\n",
       "    <tr>\n",
       "      <th>1145</th>\n",
       "      <td>Richard Rodgers</td>\n",
       "      <td>Hamilton</td>\n",
       "      <td>Original</td>\n",
       "      <td>Musical</td>\n",
       "      <td>NaN</td>\n",
       "      <td>NaN</td>\n",
       "      <td>Aug 6, 2015</td>\n",
       "      <td>Present</td>\n",
       "      <td>949</td>\n",
       "      <td>28</td>\n",
       "      <td>1400</td>\n",
       "    </tr>\n",
       "  </tbody>\n",
       "</table>\n",
       "</div>"
      ],
      "text/plain": [
       "               Theatre      Name Original_Revival Play_Musical Genre  \\\n",
       "1145  Richard Rodgers   Hamilton         Original      Musical   NaN   \n",
       "\n",
       "     Sub_Genre      Opening  Closing  Performance Count  Cast Size  Capacity  \n",
       "1145       NaN  Aug 6, 2015  Present                949         28      1400  "
      ]
     },
     "execution_count": 55,
     "metadata": {},
     "output_type": "execute_result"
    }
   ],
   "source": [
    "hamilton = df.Name.str.contains(\"Hamilton\")\n",
    "df.loc[hamilton, :]"
   ]
  },
  {
   "cell_type": "markdown",
   "metadata": {},
   "source": [
    "### CATS: Revival and Original"
   ]
  },
  {
   "cell_type": "code",
   "execution_count": 56,
   "metadata": {
    "scrolled": true
   },
   "outputs": [
    {
     "data": {
      "text/html": [
       "<div>\n",
       "<style>\n",
       "    .dataframe thead tr:only-child th {\n",
       "        text-align: right;\n",
       "    }\n",
       "\n",
       "    .dataframe thead th {\n",
       "        text-align: left;\n",
       "    }\n",
       "\n",
       "    .dataframe tbody tr th {\n",
       "        vertical-align: top;\n",
       "    }\n",
       "</style>\n",
       "<table border=\"1\" class=\"dataframe\">\n",
       "  <thead>\n",
       "    <tr style=\"text-align: right;\">\n",
       "      <th></th>\n",
       "      <th>Theatre</th>\n",
       "      <th>Name</th>\n",
       "      <th>Original_Revival</th>\n",
       "      <th>Play_Musical</th>\n",
       "      <th>Genre</th>\n",
       "      <th>Sub_Genre</th>\n",
       "      <th>Opening</th>\n",
       "      <th>Closing</th>\n",
       "      <th>Performance Count</th>\n",
       "      <th>Cast Size</th>\n",
       "      <th>Capacity</th>\n",
       "    </tr>\n",
       "  </thead>\n",
       "  <tbody>\n",
       "    <tr>\n",
       "      <th>212</th>\n",
       "      <td>Winter Garden</td>\n",
       "      <td>Cats</td>\n",
       "      <td>Original</td>\n",
       "      <td>Musical</td>\n",
       "      <td>NaN</td>\n",
       "      <td>NaN</td>\n",
       "      <td>Oct 07, 1982</td>\n",
       "      <td>Sep 10, 2000</td>\n",
       "      <td>7485</td>\n",
       "      <td>30</td>\n",
       "      <td>1526</td>\n",
       "    </tr>\n",
       "    <tr>\n",
       "      <th>213</th>\n",
       "      <td>Neil Simon</td>\n",
       "      <td>Cats</td>\n",
       "      <td>Revival</td>\n",
       "      <td>Musical</td>\n",
       "      <td>NaN</td>\n",
       "      <td>NaN</td>\n",
       "      <td>Jul 31, 2016</td>\n",
       "      <td>Dec 30, 2017</td>\n",
       "      <td>536</td>\n",
       "      <td>34</td>\n",
       "      <td>1467</td>\n",
       "    </tr>\n",
       "  </tbody>\n",
       "</table>\n",
       "</div>"
      ],
      "text/plain": [
       "            Theatre  Name Original_Revival Play_Musical Genre Sub_Genre  \\\n",
       "212  Winter Garden   Cats         Original      Musical   NaN       NaN   \n",
       "213     Neil Simon   Cats          Revival      Musical   NaN       NaN   \n",
       "\n",
       "          Opening       Closing  Performance Count  Cast Size  Capacity  \n",
       "212  Oct 07, 1982  Sep 10, 2000               7485         30      1526  \n",
       "213  Jul 31, 2016  Dec 30, 2017                536         34      1467  "
      ]
     },
     "execution_count": 56,
     "metadata": {},
     "output_type": "execute_result"
    }
   ],
   "source": [
    "cats = df.Name.str.contains(\"Cats\")\n",
    "df.loc[cats, :]"
   ]
  },
  {
   "cell_type": "markdown",
   "metadata": {},
   "source": [
    "## Playbill Vault"
   ]
  },
  {
   "cell_type": "markdown",
   "metadata": {},
   "source": [
    "Features Available and Will Be Added to Database:\n",
    "- Gross revenues per show weekly from 1984\n",
    "- Attendance per show weekly from 1984\n",
    "- Average ticket prices per show weekly from 1984\n",
    "- Overall revenues/ attendance weekly from 1984\n",
    "- Tony Award winners from 1984 \n",
    "\n",
    "In the process of scraping info from site."
   ]
  },
  {
   "cell_type": "markdown",
   "metadata": {},
   "source": [
    "## DidHeLikeIt.Com"
   ]
  },
  {
   "cell_type": "markdown",
   "metadata": {},
   "source": [
    "Broadway review site:\n",
    "Gives Broadway shows 1 of 3 ratings: thumbs up, thumbs down, neutral\n",
    "\n",
    "Database goes back only 10 years so may or may not use this info."
   ]
  },
  {
   "cell_type": "markdown",
   "metadata": {},
   "source": [
    "## Additional IBDB:"
   ]
  },
  {
   "cell_type": "markdown",
   "metadata": {},
   "source": [
    "Features Currently in the Process of Being Added to Database:\n",
    "- Music by (Musical)\n",
    "- Lyrics by (Musical)\n",
    "- Book by (Both)\n",
    "- Written by (Play)"
   ]
  },
  {
   "cell_type": "markdown",
   "metadata": {
    "collapsed": true
   },
   "source": [
    "# Preliminary EDA"
   ]
  },
  {
   "cell_type": "code",
   "execution_count": 57,
   "metadata": {
    "scrolled": true
   },
   "outputs": [
    {
     "data": {
      "text/plain": [
       "Play       703\n",
       "Musical    438\n",
       "Special      5\n",
       "Name: Play_Musical, dtype: int64"
      ]
     },
     "execution_count": 57,
     "metadata": {},
     "output_type": "execute_result"
    }
   ],
   "source": [
    "df['Play_Musical'].value_counts()"
   ]
  },
  {
   "cell_type": "code",
   "execution_count": 58,
   "metadata": {},
   "outputs": [
    {
     "data": {
      "text/plain": [
       "Original    729\n",
       "Revival     417\n",
       "Name: Original_Revival, dtype: int64"
      ]
     },
     "execution_count": 58,
     "metadata": {},
     "output_type": "execute_result"
    }
   ],
   "source": [
    "df['Original_Revival'].value_counts()"
   ]
  },
  {
   "cell_type": "code",
   "execution_count": 59,
   "metadata": {
    "collapsed": true
   },
   "outputs": [],
   "source": [
    "# Musical mapped to 1 and Play mapped to 0\n",
    "# Original work mapped to 1 and Revival mapped to 0\n",
    "df['Play_Musical'] = df['Play_Musical'].map(lambda x: 1 if x =='Musical' else 0)\n",
    "df['Original_Revival'] = df['Original_Revival'].map(lambda x: 1 if x=='Original' else 0)"
   ]
  },
  {
   "cell_type": "code",
   "execution_count": 60,
   "metadata": {
    "scrolled": true
   },
   "outputs": [
    {
     "data": {
      "text/plain": [
       "0    708\n",
       "1    438\n",
       "Name: Play_Musical, dtype: int64"
      ]
     },
     "execution_count": 60,
     "metadata": {},
     "output_type": "execute_result"
    }
   ],
   "source": [
    "df['Play_Musical'].value_counts()"
   ]
  },
  {
   "cell_type": "code",
   "execution_count": 61,
   "metadata": {},
   "outputs": [
    {
     "data": {
      "text/plain": [
       "1    729\n",
       "0    417\n",
       "Name: Original_Revival, dtype: int64"
      ]
     },
     "execution_count": 61,
     "metadata": {},
     "output_type": "execute_result"
    }
   ],
   "source": [
    "df['Original_Revival'].value_counts()"
   ]
  },
  {
   "cell_type": "code",
   "execution_count": 67,
   "metadata": {},
   "outputs": [
    {
     "data": {
      "text/plain": [
       "<matplotlib.axes._subplots.AxesSubplot at 0x120910978>"
      ]
     },
     "execution_count": 67,
     "metadata": {},
     "output_type": "execute_result"
    },
    {
     "data": {
      "image/png": "[encoded data removed]",
      "text/plain": [
       "<matplotlib.figure.Figure at 0x120910908>"
      ]
     },
     "metadata": {},
     "output_type": "display_data"
    }
   ],
   "source": [
    "plt.figure(figsize=(20, 10))\n",
    "sns.boxplot(df['Play_Musical'], df['Performance Count'])"
   ]
  },
  {
   "cell_type": "code",
   "execution_count": 66,
   "metadata": {},
   "outputs": [
    {
     "data": {
      "text/plain": [
       "<matplotlib.axes._subplots.AxesSubplot at 0x1208126d8>"
      ]
     },
     "execution_count": 66,
     "metadata": {},
     "output_type": "execute_result"
    },
    {
     "data": {
      "image/png": "[encoded data removed]",
      "text/plain": [
       "<matplotlib.figure.Figure at 0x120191908>"
      ]
     },
     "metadata": {},
     "output_type": "display_data"
    }
   ],
   "source": [
    "plt.figure(figsize=(20, 10))\n",
    "sns.boxplot(df['Original_Revival'], df['Performance Count'])"
   ]
  },
  {
   "cell_type": "code",
   "execution_count": 69,
   "metadata": {},
   "outputs": [
    {
     "data": {
      "text/plain": [
       "<matplotlib.axes._subplots.AxesSubplot at 0x121517dd8>"
      ]
     },
     "execution_count": 69,
     "metadata": {},
     "output_type": "execute_result"
    },
    {
     "data": {
      "image/png": "[encoded data removed]",
      "text/plain": [
       "<matplotlib.figure.Figure at 0x1215174e0>"
      ]
     },
     "metadata": {},
     "output_type": "display_data"
    }
   ],
   "source": [
    "plt.figure(figsize=(30, 10))\n",
    "sns.boxplot(df['Theatre'], df['Performance Count'])"
   ]
  },
  {
   "cell_type": "code",
   "execution_count": 65,
   "metadata": {},
   "outputs": [
    {
     "data": {
      "text/plain": [
       "<matplotlib.axes._subplots.AxesSubplot at 0x11efbbe80>"
      ]
     },
     "execution_count": 65,
     "metadata": {},
     "output_type": "execute_result"
    },
    {
     "data": {
      "image/png": "[encoded data removed]",
      "text/plain": [
       "<matplotlib.figure.Figure at 0x1201a32e8>"
      ]
     },
     "metadata": {},
     "output_type": "display_data"
    }
   ],
   "source": [
    "sns.heatmap(df.corr())"
   ]
  }
 ],
 "metadata": {
  "kernelspec": {
   "display_name": "Python 3",
   "language": "python",
   "name": "python3"
  },
  "language_info": {
   "codemirror_mode": {
    "name": "ipython",
    "version": 3
   },
   "file_extension": ".py",
   "mimetype": "text/x-python",
   "name": "python",
   "nbconvert_exporter": "python",
   "pygments_lexer": "ipython3",
   "version": "3.6.1"
  }
 },
 "nbformat": 4,
 "nbformat_minor": 2
}
